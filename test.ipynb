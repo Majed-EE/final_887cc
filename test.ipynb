{
 "cells": [
  {
   "cell_type": "code",
   "execution_count": 5,
   "id": "e04f5107",
   "metadata": {},
   "outputs": [],
   "source": [
    "import zmq"
   ]
  },
  {
   "cell_type": "code",
   "execution_count": 6,
   "id": "f619a5ff",
   "metadata": {},
   "outputs": [],
   "source": [
    "context = zmq.Context()"
   ]
  },
  {
   "cell_type": "code",
   "execution_count": 7,
   "id": "1274c146",
   "metadata": {},
   "outputs": [
    {
     "name": "stdout",
     "output_type": "stream",
     "text": [
      "<SocketContext(connect='tcp://localhost:5555')> None\n"
     ]
    }
   ],
   "source": [
    "socket = context.socket(zmq.SUB)\n",
    "k=socket.connect(\"tcp://localhost:5555\")\n",
    "z=socket.setsockopt_string(zmq.SUBSCRIBE, \"\")\n",
    "print(k,z)\n"
   ]
  },
  {
   "cell_type": "code",
   "execution_count": 12,
   "id": "af1cacf4",
   "metadata": {},
   "outputs": [
    {
     "name": "stdout",
     "output_type": "stream",
     "text": [
      "mike_laptop 10.194.118.229\n"
     ]
    }
   ],
   "source": [
    "import socket as soki\n",
    "hostname = soki.gethostname()\n",
    "ip_address = soki.gethostbyname(hostname)\n",
    "# hostname = zmq.utils.guess_hostname()/\n",
    "print(hostname,ip_address)"
   ]
  },
  {
   "cell_type": "code",
   "execution_count": 10,
   "id": "8b6db160",
   "metadata": {},
   "outputs": [
    {
     "ename": "AttributeError",
     "evalue": "Socket has no such option: GETHOSTNAME",
     "output_type": "error",
     "traceback": [
      "\u001b[1;31m---------------------------------------------------------------------------\u001b[0m",
      "\u001b[1;31mAttributeError\u001b[0m                            Traceback (most recent call last)",
      "Cell \u001b[1;32mIn [10], line 1\u001b[0m\n\u001b[1;32m----> 1\u001b[0m hostname \u001b[38;5;241m=\u001b[39m \u001b[43msocket\u001b[49m\u001b[38;5;241;43m.\u001b[39;49m\u001b[43mgethostname\u001b[49m()\n\u001b[0;32m      2\u001b[0m ip_address \u001b[38;5;241m=\u001b[39m socket\u001b[38;5;241m.\u001b[39mgethostbyname(hostname)\n\u001b[0;32m      3\u001b[0m \u001b[38;5;28mprint\u001b[39m(ip_address)\n",
      "File \u001b[1;32m~\\AppData\\Local\\Programs\\Python\\Python310\\lib\\site-packages\\zmq\\sugar\\attrsettr.py:48\u001b[0m, in \u001b[0;36mAttributeSetter.__getattr__\u001b[1;34m(self, key)\u001b[0m\n\u001b[0;32m     46\u001b[0m     opt \u001b[38;5;241m=\u001b[39m \u001b[38;5;28mgetattr\u001b[39m(constants, upper_key)\n\u001b[0;32m     47\u001b[0m \u001b[38;5;28;01mexcept\u001b[39;00m \u001b[38;5;167;01mAttributeError\u001b[39;00m:\n\u001b[1;32m---> 48\u001b[0m     \u001b[38;5;28;01mraise\u001b[39;00m \u001b[38;5;167;01mAttributeError\u001b[39;00m(\n\u001b[0;32m     49\u001b[0m         \u001b[38;5;124mf\u001b[39m\u001b[38;5;124m\"\u001b[39m\u001b[38;5;132;01m{\u001b[39;00m\u001b[38;5;28mself\u001b[39m\u001b[38;5;241m.\u001b[39m\u001b[38;5;18m__class__\u001b[39m\u001b[38;5;241m.\u001b[39m\u001b[38;5;18m__name__\u001b[39m\u001b[38;5;132;01m}\u001b[39;00m\u001b[38;5;124m has no such option: \u001b[39m\u001b[38;5;132;01m{\u001b[39;00mupper_key\u001b[38;5;132;01m}\u001b[39;00m\u001b[38;5;124m\"\u001b[39m\n\u001b[0;32m     50\u001b[0m     ) \u001b[38;5;28;01mfrom\u001b[39;00m \u001b[38;5;28mNone\u001b[39m\n\u001b[0;32m     51\u001b[0m \u001b[38;5;28;01melse\u001b[39;00m:\n\u001b[0;32m     52\u001b[0m     \u001b[38;5;28;01mfrom\u001b[39;00m \u001b[38;5;21;01mzmq\u001b[39;00m \u001b[38;5;28;01mimport\u001b[39;00m ZMQError\n",
      "\u001b[1;31mAttributeError\u001b[0m: Socket has no such option: GETHOSTNAME"
     ]
    }
   ],
   "source": [
    "hostname = socket.gethostname()\n",
    "ip_address = socket.gethostbyname(hostname)\n",
    "print(ip_address)"
   ]
  },
  {
   "cell_type": "code",
   "execution_count": null,
   "id": "c7f1adf6",
   "metadata": {},
   "outputs": [],
   "source": []
  },
  {
   "cell_type": "code",
   "execution_count": 2,
   "id": "89ca9aa1",
   "metadata": {},
   "outputs": [],
   "source": [
    "position = dict()\n",
    "position['initial_pose'] = [0.4155591656234133,-0.09781082933638303,0.7700814514716253,-1.0199291094410676,1.3488849116982424,-1.3191097536575846]\n",
    "position['pickup_pose'] = [0.8848037260042146,0.17646921815983174,-0.009772792169636443,-1.3697031666320458,0.8783427415523319,-0.9310896726983031]\n",
    "position['liftup_pose'] = [0.8868499857502435,0.18169791235016425,0.09391273713612598,-1.370123144360455,0.8748652095812118,-0.9282112379586018]\n",
    "position['patient_pose'] = [-0.34742032448317306,0.48476809058708503,0.3615091970531085,-1.473546441410089,0.8060987891333642,1.267887365919336]\n",
    "position['patient_pose_stochastic1'] =[-0.2956690772938112,0.5175496350168769,0.3612665846648671,-1.4170880424625343,0.8705214256741363,1.1883839037917674]\n",
    "#go to paitent position\n",
    "position['patient_pose_stochastic2'] = [-0.31901352467280936,0.5264236311958973,0.3610669151373865,-1.3937243769423613,0.862915733720757,1.2273066062575655]\n",
    "position['patient_pose_stochastic3'] = [-0.2956690772938112,0.5175496350168769,0.3612665846648671,-1.4170880424625343,0.8705214256741363,1.1883839037917674]\n",
    "position['patient_pose_final'] = [-0.34742032448317306,0.48476809058708503,0.3615091970531085,-1.473546441410089,0.8060987891333642,1.267887365919336]\n",
    "position['lift_down_pose'] = [0.8868499857502435,0.18169791235016425,0.09391273713612598,-1.370123144360455,0.8748652095812118,-0.9282112379586018]\n",
    "position['dropdown_pose'] =[0.8848037260042146,0.17646921815983174,-0.009772792169636443,-1.3697031666320458,0.8783427415523319,-0.9310896726983031]\n",
    "position['end_pose'] = [0.4155591656234133,-0.09781082933638303,0.7700814514716253,-1.0199291094410676,1.3488849116982424,-1.3191097536575846]"
   ]
  },
  {
   "cell_type": "code",
   "execution_count": 4,
   "id": "fb2ab508",
   "metadata": {},
   "outputs": [
    {
     "name": "stdout",
     "output_type": "stream",
     "text": [
      "initial_pose\n",
      "pickup_pose\n",
      "liftup_pose\n",
      "patient_pose\n",
      "patient_pose_stochastic1\n",
      "patient_pose_stochastic2\n",
      "patient_pose_stochastic3\n",
      "patient_pose_final\n",
      "lift_down_pose\n",
      "dropdown_pose\n",
      "end_pose\n"
     ]
    }
   ],
   "source": [
    "for keys in position.keys():\n",
    "    print(keys)"
   ]
  },
  {
   "cell_type": "code",
   "execution_count": null,
   "id": "b8dab3eb",
   "metadata": {},
   "outputs": [],
   "source": []
  },
  {
   "cell_type": "code",
   "execution_count": null,
   "id": "2815be5e",
   "metadata": {},
   "outputs": [],
   "source": []
  },
  {
   "cell_type": "code",
   "execution_count": null,
   "id": "bcf5d860",
   "metadata": {},
   "outputs": [],
   "source": []
  },
  {
   "cell_type": "code",
   "execution_count": null,
   "id": "4dc33416",
   "metadata": {},
   "outputs": [],
   "source": []
  },
  {
   "cell_type": "code",
   "execution_count": null,
   "id": "722fd0e7",
   "metadata": {},
   "outputs": [],
   "source": []
  },
  {
   "cell_type": "code",
   "execution_count": null,
   "id": "0a14a650",
   "metadata": {},
   "outputs": [],
   "source": []
  }
 ],
 "metadata": {
  "kernelspec": {
   "display_name": "Python 3 (ipykernel)",
   "language": "python",
   "name": "python3"
  },
  "language_info": {
   "codemirror_mode": {
    "name": "ipython",
    "version": 3
   },
   "file_extension": ".py",
   "mimetype": "text/x-python",
   "name": "python",
   "nbconvert_exporter": "python",
   "pygments_lexer": "ipython3",
   "version": "3.8.10"
  }
 },
 "nbformat": 4,
 "nbformat_minor": 5
}
